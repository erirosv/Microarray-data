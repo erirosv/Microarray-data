{
 "cells": [
  {
   "cell_type": "code",
   "execution_count": 2,
   "metadata": {},
   "outputs": [],
   "source": [
    "from Bio.Affy import CelFile\n",
    "import pandas as pd"
   ]
  },
  {
   "cell_type": "code",
   "execution_count": 8,
   "metadata": {},
   "outputs": [],
   "source": [
    "with open(\"cel-files/kaffy020602-1.CEL\", \"r\") as handle:\n",
    "    c = CelFile.read(handle)"
   ]
  },
  {
   "cell_type": "code",
   "execution_count": null,
   "metadata": {},
   "outputs": [],
   "source": [
    "import os\n",
    "\n",
    "# specify the directory containing the CEL files\n",
    "directory = \"path/to/CEL/files\"\n",
    "\n",
    "# get a list of all files in the directory\n",
    "all_files = os.listdir(directory)\n",
    "\n",
    "# filter the files based on their extension\n",
    "cel_files = [file for file in all_files if os.path.splitext(file)[-1].lower() == \".cel\"]\n"
   ]
  },
  {
   "cell_type": "code",
   "execution_count": 1,
   "metadata": {},
   "outputs": [],
   "source": [
    "from Bio.Affy import CelFile\n",
    "import pandas as pd\n",
    "import os"
   ]
  },
  {
   "cell_type": "code",
   "execution_count": 9,
   "metadata": {},
   "outputs": [],
   "source": [
    "#cel_dir = \"/Users/ezz/fun/microarray-data/genome.wisc/cel-files\"\n",
    "\n",
    "cel_dirs = ['/Users/ezz/fun/microarray-data/genome.wisc/Acetate', '/Users/ezz/fun/microarray-data/genome.wisc/Alanine', \n",
    "            '/Users/ezz/fun/microarray-data/genome.wisc/fnr-Aerobic', '/Users/ezz/fun/microarray-data/genome.wisc/Glycerol', \n",
    "            '/Users/ezz/fun/microarray-data/genome.wisc/MG1655withpBAD-sup2', '/Users/ezz/fun/microarray-data/genome.wisc/MG1655withpBAD18',\n",
    "            '/Users/ezz/fun/microarray-data/genome.wisc/Proline', '/Users/ezz/fun/microarray-data/genome.wisc/Succinate', \n",
    "            '/Users/ezz/fun/microarray-data/genome.wisc/wt-Anaerobic', '/Users/ezz/fun/microarray-data/genome.wisc/cel-files']\n",
    "\n",
    "out_path = '/Users/ezz/fun/microarray-data/genome.wisc/csv'"
   ]
  },
  {
   "cell_type": "code",
   "execution_count": 12,
   "metadata": {},
   "outputs": [
    {
     "name": "stdout",
     "output_type": "stream",
     "text": [
      "/Users/ezz/fun/microarray-data/genome.wisc/Acetate/kaffy051902-4.CEL\n",
      "/Users/ezz/fun/microarray-data/genome.wisc/Acetate/kaffy042202-4.CEL\n",
      "/Users/ezz/fun/microarray-data/genome.wisc/Alanine/kaffy051902-2.CEL\n",
      "/Users/ezz/fun/microarray-data/genome.wisc/Alanine/kaffy042202-2.CEL\n",
      "/Users/ezz/fun/microarray-data/genome.wisc/fnr-Aerobic/kaffy050703-5.CEL\n",
      "/Users/ezz/fun/microarray-data/genome.wisc/fnr-Aerobic/kaffy050703-6.CEL\n",
      "/Users/ezz/fun/microarray-data/genome.wisc/fnr-Aerobic/kaffy090502-7.CEL\n",
      "/Users/ezz/fun/microarray-data/genome.wisc/Glycerol/kaffy042202-1.CEL\n",
      "/Users/ezz/fun/microarray-data/genome.wisc/Glycerol/kaffy040402-1.CEL\n",
      "/Users/ezz/fun/microarray-data/genome.wisc/MG1655withpBAD-sup2/kaffy011503-1.CEL\n",
      "/Users/ezz/fun/microarray-data/genome.wisc/MG1655withpBAD-sup2/kaffy111502-2.CEL\n",
      "/Users/ezz/fun/microarray-data/genome.wisc/MG1655withpBAD18/kaffy011503-2.CEL\n",
      "/Users/ezz/fun/microarray-data/genome.wisc/MG1655withpBAD18/kaffy111502-1.CEL\n",
      "/Users/ezz/fun/microarray-data/genome.wisc/Proline/kaffy051902-1.CEL\n",
      "/Users/ezz/fun/microarray-data/genome.wisc/Proline/kaffy062502-1.CEL\n",
      "/Users/ezz/fun/microarray-data/genome.wisc/Succinate/kaffy051902-3.CEL\n",
      "/Users/ezz/fun/microarray-data/genome.wisc/Succinate/kaffy042202-3.CEL\n",
      "/Users/ezz/fun/microarray-data/genome.wisc/wt-Anaerobic/kaffy073002-5.CEL\n",
      "/Users/ezz/fun/microarray-data/genome.wisc/wt-Anaerobic/kaffy090502-5.CEL\n",
      "/Users/ezz/fun/microarray-data/genome.wisc/wt-Anaerobic/kaffy090502-6.CEL\n",
      "/Users/ezz/fun/microarray-data/genome.wisc/cel-files/kaffy051302-1.CEL\n",
      "/Users/ezz/fun/microarray-data/genome.wisc/cel-files/kaffy051202-4.CEL\n",
      "/Users/ezz/fun/microarray-data/genome.wisc/cel-files/kaffy051302-2.CEL\n",
      "/Users/ezz/fun/microarray-data/genome.wisc/cel-files/kaffy082502-2.CEL\n",
      "/Users/ezz/fun/microarray-data/genome.wisc/cel-files/kaffy092501-3.CEL\n",
      "/Users/ezz/fun/microarray-data/genome.wisc/cel-files/kaffy032502-2.CEL\n",
      "/Users/ezz/fun/microarray-data/genome.wisc/cel-files/kaffy051202-2.CEL\n",
      "/Users/ezz/fun/microarray-data/genome.wisc/cel-files/kaffy051202-3.CEL\n",
      "/Users/ezz/fun/microarray-data/genome.wisc/cel-files/kaffy032502-1.CEL\n",
      "/Users/ezz/fun/microarray-data/genome.wisc/cel-files/kaffy051202-1.CEL\n",
      "/Users/ezz/fun/microarray-data/genome.wisc/cel-files/kaffy051902-1.CEL\n",
      "/Users/ezz/fun/microarray-data/genome.wisc/cel-files/kaffy071702-1.CEL\n",
      "/Users/ezz/fun/microarray-data/genome.wisc/cel-files/kaffy040302-2.CEL\n",
      "/Users/ezz/fun/microarray-data/genome.wisc/cel-files/kaffy071702-3.CEL\n",
      "/Users/ezz/fun/microarray-data/genome.wisc/cel-files/kaffy051902-4.CEL\n",
      "/Users/ezz/fun/microarray-data/genome.wisc/cel-files/kaffy071702-4.CEL\n",
      "/Users/ezz/fun/microarray-data/genome.wisc/cel-files/kaffy080502-8.CEL\n",
      "/Users/ezz/fun/microarray-data/genome.wisc/cel-files/kaffy072802-4.CEL\n",
      "/Users/ezz/fun/microarray-data/genome.wisc/cel-files/kaffy080502-5.CEL\n",
      "/Users/ezz/fun/microarray-data/genome.wisc/cel-files/kaffy020602-1.CEL\n",
      "/Users/ezz/fun/microarray-data/genome.wisc/cel-files/kaffy080502-6.CEL\n",
      "/Users/ezz/fun/microarray-data/genome.wisc/cel-files/kaffy080502-7.CEL\n",
      "/Users/ezz/fun/microarray-data/genome.wisc/cel-files/kaffy042902-2.CEL\n",
      "/Users/ezz/fun/microarray-data/genome.wisc/cel-files/kaffy042902-1.CEL\n",
      "/Users/ezz/fun/microarray-data/genome.wisc/cel-files/kaffy040402-3.CEL\n",
      "/Users/ezz/fun/microarray-data/genome.wisc/cel-files/kaffy042202-1.CEL\n",
      "/Users/ezz/fun/microarray-data/genome.wisc/cel-files/kaffy062502-1.CEL\n",
      "/Users/ezz/fun/microarray-data/genome.wisc/cel-files/kaffy040402-1.CEL\n",
      "/Users/ezz/fun/microarray-data/genome.wisc/cel-files/kaffy021402-2.CEL\n",
      "/Users/ezz/fun/microarray-data/genome.wisc/cel-files/kaffy021402-3.CEL\n",
      "/Users/ezz/fun/microarray-data/genome.wisc/cel-files/kaffy071802-2.CEL\n",
      "/Users/ezz/fun/microarray-data/genome.wisc/cel-files/kaffy041502-1.CEL\n",
      "/Users/ezz/fun/microarray-data/genome.wisc/cel-files/kaffy041502-3.CEL\n",
      "/Users/ezz/fun/microarray-data/genome.wisc/cel-files/kaffy042202-4.CEL\n",
      "/Users/ezz/fun/microarray-data/genome.wisc/cel-files/kaffy021402-1.CEL\n",
      "/Users/ezz/fun/microarray-data/genome.wisc/cel-files/kaffy071802-1.CEL\n",
      "/Users/ezz/fun/microarray-data/genome.wisc/cel-files/kaffy041502-2.CEL\n",
      "Complete\n"
     ]
    }
   ],
   "source": [
    "for name in cel_dirs:\n",
    "    for filename in os.listdir(name):\n",
    "        if filename.endswith(\".CEL\"):\n",
    "            cel_file = os.path.join(name, filename)\n",
    "            #print(cel_file)\n",
    "            with open(cel_file, \"r\") as handle:\n",
    "                c = CelFile.read(handle)\n",
    "            \n",
    "            # Extract expression values from the CelFile object\n",
    "            exprs = c.intensities\n",
    "            \n",
    "            # Convert the expression values to a pandas DataFrame and save as a .csv file\n",
    "            df = pd.DataFrame(exprs)\n",
    "            output_file = os.path.join(out_path, filename[:-4] + \".csv\")\n",
    "            df.to_csv(output_file, index=False)\n",
    "print('Complete')"
   ]
  },
  {
   "cell_type": "code",
   "execution_count": null,
   "metadata": {},
   "outputs": [],
   "source": []
  }
 ],
 "metadata": {
  "kernelspec": {
   "display_name": "Python 3",
   "language": "python",
   "name": "python3"
  },
  "language_info": {
   "codemirror_mode": {
    "name": "ipython",
    "version": 3
   },
   "file_extension": ".py",
   "mimetype": "text/x-python",
   "name": "python",
   "nbconvert_exporter": "python",
   "pygments_lexer": "ipython3",
   "version": "3.10.6"
  },
  "orig_nbformat": 4,
  "vscode": {
   "interpreter": {
    "hash": "7e1998ff7f8aa20ada591c520b972326324e5ea05489af9e422744c7c09f6dad"
   }
  }
 },
 "nbformat": 4,
 "nbformat_minor": 2
}
