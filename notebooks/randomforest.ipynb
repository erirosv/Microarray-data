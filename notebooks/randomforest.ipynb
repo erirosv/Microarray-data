{
 "cells": [
  {
   "attachments": {},
   "cell_type": "markdown",
   "metadata": {},
   "source": [
    "# Random Forest Classifier\n",
    "\n",
    "Implementation of Random Forest classifier (RFC)."
   ]
  },
  {
   "attachments": {},
   "cell_type": "markdown",
   "metadata": {},
   "source": [
    "## Importing libraries"
   ]
  },
  {
   "cell_type": "code",
   "execution_count": 3,
   "metadata": {},
   "outputs": [],
   "source": [
    "import os\n",
    "import pandas as pd\n",
    "import numpy as np\n",
    "import seaborn as sns\n",
    "import matplotlib.pyplot as plt\n",
    "\n",
    "from sklearn.ensemble import RandomForestClassifier\n",
    "from sklearn.model_selection import train_test_split\n",
    "from sklearn.model_selection import cross_val_score\n",
    "from sklearn.metrics import accuracy_score ,mean_squared_error"
   ]
  },
  {
   "attachments": {},
   "cell_type": "markdown",
   "metadata": {},
   "source": [
    "## Data processing"
   ]
  },
  {
   "cell_type": "code",
   "execution_count": 10,
   "metadata": {},
   "outputs": [
    {
     "name": "stdout",
     "output_type": "stream",
     "text": [
      "NaN values: False\n"
     ]
    },
    {
     "data": {
      "text/html": [
       "<div>\n",
       "<style scoped>\n",
       "    .dataframe tbody tr th:only-of-type {\n",
       "        vertical-align: middle;\n",
       "    }\n",
       "\n",
       "    .dataframe tbody tr th {\n",
       "        vertical-align: top;\n",
       "    }\n",
       "\n",
       "    .dataframe thead th {\n",
       "        text-align: right;\n",
       "    }\n",
       "</style>\n",
       "<table border=\"1\" class=\"dataframe\">\n",
       "  <thead>\n",
       "    <tr style=\"text-align: right;\">\n",
       "      <th></th>\n",
       "      <th>x.X1</th>\n",
       "      <th>x.X2</th>\n",
       "      <th>x.X3</th>\n",
       "      <th>x.X4</th>\n",
       "      <th>x.X5</th>\n",
       "      <th>x.X6</th>\n",
       "      <th>x.X7</th>\n",
       "      <th>x.X8</th>\n",
       "      <th>x.X9</th>\n",
       "      <th>x.X10</th>\n",
       "      <th>...</th>\n",
       "      <th>x.X1992</th>\n",
       "      <th>x.X1993</th>\n",
       "      <th>x.X1994</th>\n",
       "      <th>x.X1995</th>\n",
       "      <th>x.X1996</th>\n",
       "      <th>x.X1997</th>\n",
       "      <th>x.X1998</th>\n",
       "      <th>x.X1999</th>\n",
       "      <th>x.X2000</th>\n",
       "      <th>y</th>\n",
       "    </tr>\n",
       "  </thead>\n",
       "  <tbody>\n",
       "    <tr>\n",
       "      <th>0</th>\n",
       "      <td>8589.42</td>\n",
       "      <td>5468.24</td>\n",
       "      <td>4263.41</td>\n",
       "      <td>4064.94</td>\n",
       "      <td>1997.89</td>\n",
       "      <td>5282.33</td>\n",
       "      <td>2169.72</td>\n",
       "      <td>2773.42</td>\n",
       "      <td>7526.39</td>\n",
       "      <td>4607.68</td>\n",
       "      <td>...</td>\n",
       "      <td>67.56</td>\n",
       "      <td>259.91</td>\n",
       "      <td>138.90</td>\n",
       "      <td>88.23</td>\n",
       "      <td>39.67</td>\n",
       "      <td>67.83</td>\n",
       "      <td>75.68</td>\n",
       "      <td>83.52</td>\n",
       "      <td>28.70</td>\n",
       "      <td>t</td>\n",
       "    </tr>\n",
       "    <tr>\n",
       "      <th>1</th>\n",
       "      <td>9164.25</td>\n",
       "      <td>6719.53</td>\n",
       "      <td>4883.45</td>\n",
       "      <td>3718.16</td>\n",
       "      <td>2015.22</td>\n",
       "      <td>5569.91</td>\n",
       "      <td>3849.06</td>\n",
       "      <td>2793.39</td>\n",
       "      <td>7017.73</td>\n",
       "      <td>4802.25</td>\n",
       "      <td>...</td>\n",
       "      <td>92.24</td>\n",
       "      <td>96.28</td>\n",
       "      <td>150.59</td>\n",
       "      <td>82.24</td>\n",
       "      <td>85.03</td>\n",
       "      <td>152.20</td>\n",
       "      <td>186.57</td>\n",
       "      <td>44.47</td>\n",
       "      <td>16.77</td>\n",
       "      <td>n</td>\n",
       "    </tr>\n",
       "    <tr>\n",
       "      <th>2</th>\n",
       "      <td>3825.71</td>\n",
       "      <td>6970.36</td>\n",
       "      <td>5369.97</td>\n",
       "      <td>4705.65</td>\n",
       "      <td>1166.55</td>\n",
       "      <td>1572.17</td>\n",
       "      <td>1325.40</td>\n",
       "      <td>1472.26</td>\n",
       "      <td>3296.95</td>\n",
       "      <td>2786.58</td>\n",
       "      <td>...</td>\n",
       "      <td>82.72</td>\n",
       "      <td>31.10</td>\n",
       "      <td>193.92</td>\n",
       "      <td>76.97</td>\n",
       "      <td>224.62</td>\n",
       "      <td>31.23</td>\n",
       "      <td>42.66</td>\n",
       "      <td>16.09</td>\n",
       "      <td>15.16</td>\n",
       "      <td>t</td>\n",
       "    </tr>\n",
       "    <tr>\n",
       "      <th>3</th>\n",
       "      <td>6246.45</td>\n",
       "      <td>7823.53</td>\n",
       "      <td>5955.84</td>\n",
       "      <td>3975.56</td>\n",
       "      <td>2002.61</td>\n",
       "      <td>2130.54</td>\n",
       "      <td>1531.14</td>\n",
       "      <td>1714.63</td>\n",
       "      <td>3869.79</td>\n",
       "      <td>4989.41</td>\n",
       "      <td>...</td>\n",
       "      <td>41.68</td>\n",
       "      <td>5.93</td>\n",
       "      <td>183.01</td>\n",
       "      <td>74.53</td>\n",
       "      <td>67.71</td>\n",
       "      <td>48.34</td>\n",
       "      <td>42.52</td>\n",
       "      <td>49.98</td>\n",
       "      <td>16.09</td>\n",
       "      <td>n</td>\n",
       "    </tr>\n",
       "    <tr>\n",
       "      <th>4</th>\n",
       "      <td>3230.33</td>\n",
       "      <td>3694.45</td>\n",
       "      <td>3400.74</td>\n",
       "      <td>3463.59</td>\n",
       "      <td>2181.42</td>\n",
       "      <td>2922.78</td>\n",
       "      <td>2069.25</td>\n",
       "      <td>2948.58</td>\n",
       "      <td>3303.37</td>\n",
       "      <td>3109.41</td>\n",
       "      <td>...</td>\n",
       "      <td>76.60</td>\n",
       "      <td>161.35</td>\n",
       "      <td>61.70</td>\n",
       "      <td>54.56</td>\n",
       "      <td>223.36</td>\n",
       "      <td>73.10</td>\n",
       "      <td>57.60</td>\n",
       "      <td>7.49</td>\n",
       "      <td>31.81</td>\n",
       "      <td>t</td>\n",
       "    </tr>\n",
       "  </tbody>\n",
       "</table>\n",
       "<p>5 rows × 2001 columns</p>\n",
       "</div>"
      ],
      "text/plain": [
       "      x.X1     x.X2     x.X3     x.X4     x.X5     x.X6     x.X7     x.X8   \n",
       "0  8589.42  5468.24  4263.41  4064.94  1997.89  5282.33  2169.72  2773.42  \\\n",
       "1  9164.25  6719.53  4883.45  3718.16  2015.22  5569.91  3849.06  2793.39   \n",
       "2  3825.71  6970.36  5369.97  4705.65  1166.55  1572.17  1325.40  1472.26   \n",
       "3  6246.45  7823.53  5955.84  3975.56  2002.61  2130.54  1531.14  1714.63   \n",
       "4  3230.33  3694.45  3400.74  3463.59  2181.42  2922.78  2069.25  2948.58   \n",
       "\n",
       "      x.X9    x.X10  ...  x.X1992  x.X1993  x.X1994  x.X1995  x.X1996   \n",
       "0  7526.39  4607.68  ...    67.56   259.91   138.90    88.23    39.67  \\\n",
       "1  7017.73  4802.25  ...    92.24    96.28   150.59    82.24    85.03   \n",
       "2  3296.95  2786.58  ...    82.72    31.10   193.92    76.97   224.62   \n",
       "3  3869.79  4989.41  ...    41.68     5.93   183.01    74.53    67.71   \n",
       "4  3303.37  3109.41  ...    76.60   161.35    61.70    54.56   223.36   \n",
       "\n",
       "   x.X1997  x.X1998  x.X1999  x.X2000  y  \n",
       "0    67.83    75.68    83.52    28.70  t  \n",
       "1   152.20   186.57    44.47    16.77  n  \n",
       "2    31.23    42.66    16.09    15.16  t  \n",
       "3    48.34    42.52    49.98    16.09  n  \n",
       "4    73.10    57.60     7.49    31.81  t  \n",
       "\n",
       "[5 rows x 2001 columns]"
      ]
     },
     "execution_count": 10,
     "metadata": {},
     "output_type": "execute_result"
    }
   ],
   "source": [
    "raw_data = pd.read_csv('../data/gravier/gravier_csv/alon.csv')\n",
    "print(f'NaN values: {raw_data.isnull().values.any()}')\n",
    "\n",
    "raw_data.head()\n",
    "\n",
    "#X = raw_data.iloc[:,0,-1]\n",
    "#Y = raw_data.iloc[:,-1]\n",
    "\n",
    "#X_train, X_test, Y_train, Y_test = train_test_split(X, Y, test_size=0.3, random_state=0)"
   ]
  },
  {
   "cell_type": "code",
   "execution_count": 16,
   "metadata": {},
   "outputs": [
    {
     "data": {
      "text/plain": [
       "62"
      ]
     },
     "execution_count": 16,
     "metadata": {},
     "output_type": "execute_result"
    }
   ],
   "source": [
    "len(raw_data)"
   ]
  },
  {
   "cell_type": "code",
   "execution_count": 23,
   "metadata": {},
   "outputs": [],
   "source": [
    "sample_columns = [f'x.X{i+1}' for i in range(len(raw_data))]\n",
    "\n",
    "X = raw_data[sample_columns].values\n",
    "y = raw_data['y'].values\n"
   ]
  },
  {
   "cell_type": "code",
   "execution_count": 24,
   "metadata": {},
   "outputs": [],
   "source": [
    "from sklearn.cluster import KMeans\n",
    "from collections import Counter"
   ]
  },
  {
   "cell_type": "code",
   "execution_count": 27,
   "metadata": {},
   "outputs": [
    {
     "name": "stderr",
     "output_type": "stream",
     "text": [
      "/Users/erirosv/.pyenv/versions/3.10.11/lib/python3.10/site-packages/sklearn/cluster/_kmeans.py:870: FutureWarning: The default value of `n_init` will change from 10 to 'auto' in 1.4. Set the value of `n_init` explicitly to suppress the warning\n",
      "  warnings.warn(\n"
     ]
    },
    {
     "data": {
      "text/plain": [
       "[Counter({'t': 22, 'n': 11}),\n",
       " Counter({'n': 6, 't': 4}),\n",
       " Counter({'t': 14, 'n': 5})]"
      ]
     },
     "execution_count": 27,
     "metadata": {},
     "output_type": "execute_result"
    }
   ],
   "source": [
    "n_clusters = 3\n",
    "kmeans = KMeans(n_clusters=n_clusters, random_state=1).fit(X.T)\n",
    "clusters = kmeans.predict(X.T)\n",
    "cluster_counts = [Counter(y[clusters == c]) for c in range(3)]\n",
    "cluster_counts"
   ]
  },
  {
   "cell_type": "code",
   "execution_count": null,
   "metadata": {},
   "outputs": [],
   "source": []
  }
 ],
 "metadata": {
  "kernelspec": {
   "display_name": "Python 3",
   "language": "python",
   "name": "python3"
  },
  "language_info": {
   "codemirror_mode": {
    "name": "ipython",
    "version": 3
   },
   "file_extension": ".py",
   "mimetype": "text/x-python",
   "name": "python",
   "nbconvert_exporter": "python",
   "pygments_lexer": "ipython3",
   "version": "3.10.11"
  },
  "orig_nbformat": 4
 },
 "nbformat": 4,
 "nbformat_minor": 2
}
