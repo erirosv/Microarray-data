{
 "cells": [
  {
   "attachments": {},
   "cell_type": "markdown",
   "metadata": {},
   "source": [
    "# Test Implementation of Classifiers "
   ]
  },
  {
   "attachments": {},
   "cell_type": "markdown",
   "metadata": {},
   "source": [
    "## Importing libraries"
   ]
  },
  {
   "cell_type": "code",
   "execution_count": 1,
   "metadata": {},
   "outputs": [
    {
     "name": "stderr",
     "output_type": "stream",
     "text": [
      "/var/folders/wq/7cvbc6jd411dg1wd3j_ksjv80000gn/T/ipykernel_22764/2903458034.py:17: MatplotlibDeprecationWarning: The seaborn styles shipped by Matplotlib are deprecated since 3.6, as they no longer correspond to the styles shipped by seaborn. However, they will remain available as 'seaborn-v0_8-<style>'. Alternatively, directly use the seaborn API instead.\n",
      "  plt.style.use('seaborn-darkgrid')\n"
     ]
    }
   ],
   "source": [
    "import os\n",
    "import pandas as pd\n",
    "import numpy as np\n",
    "import seaborn as sns\n",
    "import matplotlib.pyplot as plt\n",
    "\n",
    "from sklearn.ensemble import RandomForestClassifier\n",
    "from sklearn.naive_bayes import GaussianNB\n",
    "from sklearn.tree import DecisionTreeClassifier\n",
    "from sklearn.svm import SVC\n",
    "from sklearn.preprocessing import StandardScaler\n",
    "from sklearn.model_selection import train_test_split\n",
    "from sklearn.model_selection import cross_val_score\n",
    "from sklearn.metrics import accuracy_score ,mean_squared_error\n",
    "from sklearn.metrics import precision_score, recall_score, f1_score, confusion_matrix\n",
    "\n",
    "plt.style.use('seaborn-darkgrid')"
   ]
  },
  {
   "attachments": {},
   "cell_type": "markdown",
   "metadata": {},
   "source": [
    "## Data processing"
   ]
  },
  {
   "cell_type": "code",
   "execution_count": 2,
   "metadata": {},
   "outputs": [
    {
     "name": "stdout",
     "output_type": "stream",
     "text": [
      "NaN values: False\n",
      "Data file containing Nan value: False\n"
     ]
    },
    {
     "data": {
      "text/html": [
       "<div>\n",
       "<style scoped>\n",
       "    .dataframe tbody tr th:only-of-type {\n",
       "        vertical-align: middle;\n",
       "    }\n",
       "\n",
       "    .dataframe tbody tr th {\n",
       "        vertical-align: top;\n",
       "    }\n",
       "\n",
       "    .dataframe thead th {\n",
       "        text-align: right;\n",
       "    }\n",
       "</style>\n",
       "<table border=\"1\" class=\"dataframe\">\n",
       "  <thead>\n",
       "    <tr style=\"text-align: right;\">\n",
       "      <th></th>\n",
       "      <th>x.X1</th>\n",
       "      <th>x.X2</th>\n",
       "      <th>x.X3</th>\n",
       "      <th>x.X4</th>\n",
       "      <th>x.X5</th>\n",
       "      <th>x.X6</th>\n",
       "      <th>x.X7</th>\n",
       "      <th>x.X8</th>\n",
       "      <th>x.X9</th>\n",
       "      <th>x.X10</th>\n",
       "      <th>...</th>\n",
       "      <th>x.X1992</th>\n",
       "      <th>x.X1993</th>\n",
       "      <th>x.X1994</th>\n",
       "      <th>x.X1995</th>\n",
       "      <th>x.X1996</th>\n",
       "      <th>x.X1997</th>\n",
       "      <th>x.X1998</th>\n",
       "      <th>x.X1999</th>\n",
       "      <th>x.X2000</th>\n",
       "      <th>y</th>\n",
       "    </tr>\n",
       "  </thead>\n",
       "  <tbody>\n",
       "    <tr>\n",
       "      <th>0</th>\n",
       "      <td>8589.42</td>\n",
       "      <td>5468.24</td>\n",
       "      <td>4263.41</td>\n",
       "      <td>4064.94</td>\n",
       "      <td>1997.89</td>\n",
       "      <td>5282.33</td>\n",
       "      <td>2169.72</td>\n",
       "      <td>2773.42</td>\n",
       "      <td>7526.39</td>\n",
       "      <td>4607.68</td>\n",
       "      <td>...</td>\n",
       "      <td>67.56</td>\n",
       "      <td>259.91</td>\n",
       "      <td>138.90</td>\n",
       "      <td>88.23</td>\n",
       "      <td>39.67</td>\n",
       "      <td>67.83</td>\n",
       "      <td>75.68</td>\n",
       "      <td>83.52</td>\n",
       "      <td>28.70</td>\n",
       "      <td>t</td>\n",
       "    </tr>\n",
       "    <tr>\n",
       "      <th>1</th>\n",
       "      <td>9164.25</td>\n",
       "      <td>6719.53</td>\n",
       "      <td>4883.45</td>\n",
       "      <td>3718.16</td>\n",
       "      <td>2015.22</td>\n",
       "      <td>5569.91</td>\n",
       "      <td>3849.06</td>\n",
       "      <td>2793.39</td>\n",
       "      <td>7017.73</td>\n",
       "      <td>4802.25</td>\n",
       "      <td>...</td>\n",
       "      <td>92.24</td>\n",
       "      <td>96.28</td>\n",
       "      <td>150.59</td>\n",
       "      <td>82.24</td>\n",
       "      <td>85.03</td>\n",
       "      <td>152.20</td>\n",
       "      <td>186.57</td>\n",
       "      <td>44.47</td>\n",
       "      <td>16.77</td>\n",
       "      <td>n</td>\n",
       "    </tr>\n",
       "    <tr>\n",
       "      <th>2</th>\n",
       "      <td>3825.71</td>\n",
       "      <td>6970.36</td>\n",
       "      <td>5369.97</td>\n",
       "      <td>4705.65</td>\n",
       "      <td>1166.55</td>\n",
       "      <td>1572.17</td>\n",
       "      <td>1325.40</td>\n",
       "      <td>1472.26</td>\n",
       "      <td>3296.95</td>\n",
       "      <td>2786.58</td>\n",
       "      <td>...</td>\n",
       "      <td>82.72</td>\n",
       "      <td>31.10</td>\n",
       "      <td>193.92</td>\n",
       "      <td>76.97</td>\n",
       "      <td>224.62</td>\n",
       "      <td>31.23</td>\n",
       "      <td>42.66</td>\n",
       "      <td>16.09</td>\n",
       "      <td>15.16</td>\n",
       "      <td>t</td>\n",
       "    </tr>\n",
       "    <tr>\n",
       "      <th>3</th>\n",
       "      <td>6246.45</td>\n",
       "      <td>7823.53</td>\n",
       "      <td>5955.84</td>\n",
       "      <td>3975.56</td>\n",
       "      <td>2002.61</td>\n",
       "      <td>2130.54</td>\n",
       "      <td>1531.14</td>\n",
       "      <td>1714.63</td>\n",
       "      <td>3869.79</td>\n",
       "      <td>4989.41</td>\n",
       "      <td>...</td>\n",
       "      <td>41.68</td>\n",
       "      <td>5.93</td>\n",
       "      <td>183.01</td>\n",
       "      <td>74.53</td>\n",
       "      <td>67.71</td>\n",
       "      <td>48.34</td>\n",
       "      <td>42.52</td>\n",
       "      <td>49.98</td>\n",
       "      <td>16.09</td>\n",
       "      <td>n</td>\n",
       "    </tr>\n",
       "    <tr>\n",
       "      <th>4</th>\n",
       "      <td>3230.33</td>\n",
       "      <td>3694.45</td>\n",
       "      <td>3400.74</td>\n",
       "      <td>3463.59</td>\n",
       "      <td>2181.42</td>\n",
       "      <td>2922.78</td>\n",
       "      <td>2069.25</td>\n",
       "      <td>2948.58</td>\n",
       "      <td>3303.37</td>\n",
       "      <td>3109.41</td>\n",
       "      <td>...</td>\n",
       "      <td>76.60</td>\n",
       "      <td>161.35</td>\n",
       "      <td>61.70</td>\n",
       "      <td>54.56</td>\n",
       "      <td>223.36</td>\n",
       "      <td>73.10</td>\n",
       "      <td>57.60</td>\n",
       "      <td>7.49</td>\n",
       "      <td>31.81</td>\n",
       "      <td>t</td>\n",
       "    </tr>\n",
       "  </tbody>\n",
       "</table>\n",
       "<p>5 rows × 2001 columns</p>\n",
       "</div>"
      ],
      "text/plain": [
       "      x.X1     x.X2     x.X3     x.X4     x.X5     x.X6     x.X7     x.X8   \n",
       "0  8589.42  5468.24  4263.41  4064.94  1997.89  5282.33  2169.72  2773.42  \\\n",
       "1  9164.25  6719.53  4883.45  3718.16  2015.22  5569.91  3849.06  2793.39   \n",
       "2  3825.71  6970.36  5369.97  4705.65  1166.55  1572.17  1325.40  1472.26   \n",
       "3  6246.45  7823.53  5955.84  3975.56  2002.61  2130.54  1531.14  1714.63   \n",
       "4  3230.33  3694.45  3400.74  3463.59  2181.42  2922.78  2069.25  2948.58   \n",
       "\n",
       "      x.X9    x.X10  ...  x.X1992  x.X1993  x.X1994  x.X1995  x.X1996   \n",
       "0  7526.39  4607.68  ...    67.56   259.91   138.90    88.23    39.67  \\\n",
       "1  7017.73  4802.25  ...    92.24    96.28   150.59    82.24    85.03   \n",
       "2  3296.95  2786.58  ...    82.72    31.10   193.92    76.97   224.62   \n",
       "3  3869.79  4989.41  ...    41.68     5.93   183.01    74.53    67.71   \n",
       "4  3303.37  3109.41  ...    76.60   161.35    61.70    54.56   223.36   \n",
       "\n",
       "   x.X1997  x.X1998  x.X1999  x.X2000  y  \n",
       "0    67.83    75.68    83.52    28.70  t  \n",
       "1   152.20   186.57    44.47    16.77  n  \n",
       "2    31.23    42.66    16.09    15.16  t  \n",
       "3    48.34    42.52    49.98    16.09  n  \n",
       "4    73.10    57.60     7.49    31.81  t  \n",
       "\n",
       "[5 rows x 2001 columns]"
      ]
     },
     "execution_count": 2,
     "metadata": {},
     "output_type": "execute_result"
    }
   ],
   "source": [
    "raw_data = pd.read_csv('../data/gravier/gravier_csv/alon.csv')\n",
    "print(f'NaN values: {raw_data.isnull().values.any()}')\n",
    "\n",
    "print(f\"Data file containing Nan value: {raw_data.isnull().values.any()}\")\n",
    "raw_data.head()"
   ]
  },
  {
   "cell_type": "code",
   "execution_count": 3,
   "metadata": {},
   "outputs": [],
   "source": [
    "# Separate the features from the labels\n",
    "X = raw_data.iloc[:, :-1].values\n",
    "y = raw_data.iloc[:, -1].values\n",
    "\n",
    "X_train, X_test, y_train, y_test = train_test_split(X, y, test_size=0.2, random_state=42)\n",
    "\n",
    "# Normalize the data\n",
    "scaler = StandardScaler()\n",
    "X_train = scaler.fit_transform(X_train)\n",
    "X_test = scaler.transform(X_test)"
   ]
  },
  {
   "attachments": {},
   "cell_type": "markdown",
   "metadata": {},
   "source": [
    "## Random Forest Classifier"
   ]
  },
  {
   "cell_type": "code",
   "execution_count": 4,
   "metadata": {},
   "outputs": [
    {
     "name": "stdout",
     "output_type": "stream",
     "text": [
      "Accuracy: 0.6923076923076923\n"
     ]
    }
   ],
   "source": [
    "# Train the random forest classifier\n",
    "rfc = RandomForestClassifier(n_estimators=100, random_state=42)\n",
    "rfc.fit(X_train, y_train)\n",
    "y_pred_rfc = rfc.predict(X_test)\n",
    "rfc_score = accuracy_score(y_test, y_pred_rfc)\n",
    "print('Accuracy:', rfc_score)"
   ]
  },
  {
   "attachments": {},
   "cell_type": "markdown",
   "metadata": {},
   "source": [
    "## Naive Bayes"
   ]
  },
  {
   "cell_type": "code",
   "execution_count": 5,
   "metadata": {},
   "outputs": [
    {
     "name": "stdout",
     "output_type": "stream",
     "text": [
      "Naive Bayes classifier accuracy: 0.38461538461538464\n"
     ]
    }
   ],
   "source": [
    "# Train and evaluate the naive Bayes classifier using the testing set\n",
    "nb = GaussianNB()\n",
    "nb.fit(X_train, y_train)\n",
    "y_pred_nb = nb.predict(X_test)\n",
    "score_nb = accuracy_score(y_test, y_pred_nb)\n",
    "print('Naive Bayes classifier accuracy:', score_nb)"
   ]
  },
  {
   "attachments": {},
   "cell_type": "markdown",
   "metadata": {},
   "source": [
    "## Decision Tree"
   ]
  },
  {
   "cell_type": "code",
   "execution_count": 6,
   "metadata": {},
   "outputs": [
    {
     "name": "stdout",
     "output_type": "stream",
     "text": [
      "Decision tree classifier accuracy: 0.6923076923076923\n"
     ]
    }
   ],
   "source": [
    "# Train and evaluate the decision tree classifier using the testing set\n",
    "dtc = DecisionTreeClassifier(random_state=42)\n",
    "dtc.fit(X_train, y_train)\n",
    "y_pred_dt = dtc.predict(X_test)\n",
    "score_dt = accuracy_score(y_test, y_pred_dt)\n",
    "print('Decision tree classifier accuracy:', score_dt)"
   ]
  },
  {
   "attachments": {},
   "cell_type": "markdown",
   "metadata": {},
   "source": [
    "## Support Vector Machine (SVM)"
   ]
  },
  {
   "cell_type": "code",
   "execution_count": 7,
   "metadata": {},
   "outputs": [
    {
     "name": "stdout",
     "output_type": "stream",
     "text": [
      "Support vector machine classifier accuracy: 0.7692307692307693\n"
     ]
    }
   ],
   "source": [
    "# Train and evaluate the support vector machine classifier using the testing set\n",
    "svm = SVC(kernel='linear', C=1, random_state=42)\n",
    "svm.fit(X_train, y_train)\n",
    "y_pred_svm = svm.predict(X_test)\n",
    "score_svm = accuracy_score(y_test, y_pred_svm)\n",
    "print('Support vector machine classifier accuracy:', score_svm)"
   ]
  },
  {
   "attachments": {},
   "cell_type": "markdown",
   "metadata": {},
   "source": [
    "## Plotting Results"
   ]
  },
  {
   "cell_type": "code",
   "execution_count": 8,
   "metadata": {},
   "outputs": [],
   "source": [
    "import matplotlib.pyplot as plt\n",
    "\n",
    "def plot_scores(rf_scores, nb_scores, dt_scores, svm_scores):\n",
    "    \"\"\"\n",
    "    Plots the cross-validation scores for four different classifiers.\n",
    "\n",
    "    Args:\n",
    "        rf_scores (list): List of cross-validation scores for random forest classifier.\n",
    "        nb_scores (list): List of cross-validation scores for naive Bayes classifier.\n",
    "        dt_scores (list): List of cross-validation scores for decision tree classifier.\n",
    "        svm_scores (list): List of cross-validation scores for support vector machine classifier.\n",
    "    \"\"\"\n",
    "    labels = ['Random Forest', 'Naive Bayes', 'Decision Tree', 'Support Vector Machine']\n",
    "    scores = [rf_scores, nb_scores, dt_scores, svm_scores]\n",
    "\n",
    "    fig, ax = plt.subplots()\n",
    "    ax.boxplot(scores, labels=labels)\n",
    "    ax.set_ylabel('Cross-validation accuracy')\n",
    "\n",
    "    plt.show()\n"
   ]
  },
  {
   "cell_type": "code",
   "execution_count": 9,
   "metadata": {},
   "outputs": [
    {
     "data": {
      "image/png": "[encoded data removed]",
      "text/plain": [
       "<Figure size 640x480 with 1 Axes>"
      ]
     },
     "metadata": {},
     "output_type": "display_data"
    }
   ],
   "source": [
    "rf_scores = cross_val_score(rfc, X, y, cv=5)\n",
    "nb_scores = cross_val_score(nb, X, y, cv=5)\n",
    "dt_scores = cross_val_score(dtc, X, y, cv=5)\n",
    "svm_scores = cross_val_score(svm, X, y, cv=5)\n",
    "\n",
    "# Plot the scores using the function\n",
    "plot_scores(rf_scores, nb_scores, dt_scores, svm_scores)"
   ]
  },
  {
   "cell_type": "code",
   "execution_count": 10,
   "metadata": {},
   "outputs": [
    {
     "name": "stdout",
     "output_type": "stream",
     "text": [
      "Random forest accuracy: 0.6923076923076923\n",
      "Random forest precision: 0.8333333333333334\n",
      "Random forest recall: 0.625\n",
      "Random forest F1 score: 0.7142857142857143\n",
      "Random forest confusion matrix:\n",
      " [[4 1]\n",
      " [3 5]]\n"
     ]
    }
   ],
   "source": [
    "rfc_accuracy = accuracy_score(y_test, y_pred_rfc)\n",
    "print('Random forest accuracy:', rfc_accuracy)\n",
    "\n",
    "# Calculate precision, recall, and F1 score for the random forest classifier\n",
    "rfc_precision = precision_score(y_test, y_pred_rfc, pos_label='t')\n",
    "rfc_recall = recall_score(y_test, y_pred_rfc, pos_label='t')\n",
    "rfc_f1 = f1_score(y_test, y_pred_rfc, pos_label='t')\n",
    "print('Random forest precision:', rfc_precision)\n",
    "print('Random forest recall:', rfc_recall)\n",
    "print('Random forest F1 score:', rfc_f1)\n",
    "\n",
    "# Calculate the confusion matrix for the random forest classifier\n",
    "rfc_confusion_matrix = confusion_matrix(y_test, y_pred_rfc)\n",
    "print('Random forest confusion matrix:\\n', rfc_confusion_matrix)"
   ]
  },
  {
   "cell_type": "code",
   "execution_count": 11,
   "metadata": {},
   "outputs": [
    {
     "name": "stdout",
     "output_type": "stream",
     "text": [
      "Naive Bayes accuracy: 0.38461538461538464\n",
      "Naive Bayes precision: 0.5\n",
      "Naive Bayes recall: 0.125\n",
      "Naive Bayes F1 score: 0.2\n",
      "Random forest confusion matrix:\n",
      " [[4 1]\n",
      " [7 1]]\n"
     ]
    }
   ],
   "source": [
    "nb_accuracy = accuracy_score(y_test, y_pred_nb)\n",
    "print('Naive Bayes accuracy:', nb_accuracy)\n",
    "\n",
    "# Calculate precision, recall, and F1 score for the random forest classifier\n",
    "nb_precision = precision_score(y_test, y_pred_nb, pos_label='t')\n",
    "nb_recall = recall_score(y_test, y_pred_nb, pos_label='t')\n",
    "nb_f1 = f1_score(y_test, y_pred_nb, pos_label='t')\n",
    "print('Naive Bayes precision:', nb_precision)\n",
    "print('Naive Bayes recall:', nb_recall)\n",
    "print('Naive Bayes F1 score:', nb_f1)\n",
    "\n",
    "# Calculate the confusion matrix for the random forest classifier\n",
    "nb_confusion_matrix = confusion_matrix(y_test, y_pred_nb)\n",
    "print('Random forest confusion matrix:\\n', nb_confusion_matrix)"
   ]
  },
  {
   "cell_type": "code",
   "execution_count": 12,
   "metadata": {},
   "outputs": [
    {
     "name": "stdout",
     "output_type": "stream",
     "text": [
      "Random forest accuracy: 0.6923076923076923\n",
      "Random forest precision: 0.75\n",
      "Random forest recall: 0.75\n",
      "Random forest F1 score: 0.75\n",
      "Random forest confusion matrix:\n",
      " [[3 2]\n",
      " [2 6]]\n"
     ]
    }
   ],
   "source": [
    "dt_accuracy = accuracy_score(y_test, y_pred_dt)\n",
    "print('Random forest accuracy:', dt_accuracy)\n",
    "\n",
    "# Calculate precision, recall, and F1 score for the random forest classifier\n",
    "dt_precision = precision_score(y_test, y_pred_dt, pos_label='t')\n",
    "dt_recall = recall_score(y_test, y_pred_dt, pos_label='t')\n",
    "dt_f1 = f1_score(y_test, y_pred_dt, pos_label='t')\n",
    "print('Random forest precision:', dt_precision)\n",
    "print('Random forest recall:', dt_recall)\n",
    "print('Random forest F1 score:', dt_f1)\n",
    "\n",
    "# Calculate the confusion matrix for the random forest classifier\n",
    "dt_confusion_matrix = confusion_matrix(y_test, y_pred_dt)\n",
    "print('Random forest confusion matrix:\\n', dt_confusion_matrix)"
   ]
  },
  {
   "cell_type": "code",
   "execution_count": 13,
   "metadata": {},
   "outputs": [
    {
     "name": "stdout",
     "output_type": "stream",
     "text": [
      "Random forest accuracy: 0.7692307692307693\n",
      "Random forest precision: 0.8571428571428571\n",
      "Random forest recall: 0.75\n",
      "Random forest F1 score: 0.7999999999999999\n",
      "Random forest confusion matrix:\n",
      " [[4 1]\n",
      " [2 6]]\n"
     ]
    }
   ],
   "source": [
    "svm_accuracy = accuracy_score(y_test, y_pred_svm)\n",
    "print('Random forest accuracy:', svm_accuracy)\n",
    "\n",
    "# Calculate precision, recall, and F1 score for the random forest classifier\n",
    "svm_precision = precision_score(y_test, y_pred_svm, pos_label='t')\n",
    "svm_recall = recall_score(y_test, y_pred_svm, pos_label='t')\n",
    "svm_f1 = f1_score(y_test, y_pred_svm, pos_label='t')\n",
    "print('Random forest precision:', svm_precision)\n",
    "print('Random forest recall:', svm_recall)\n",
    "print('Random forest F1 score:', svm_f1)\n",
    "\n",
    "# Calculate the confusion matrix for the random forest classifier\n",
    "svm_confusion_matrix = confusion_matrix(y_test, y_pred_svm)\n",
    "print('Random forest confusion matrix:\\n', svm_confusion_matrix)"
   ]
  },
  {
   "cell_type": "code",
   "execution_count": 26,
   "metadata": {},
   "outputs": [
    {
     "data": {
      "image/png": "[encoded data removed]",
      "text/plain": [
       "<Figure size 1000x800 with 4 Axes>"
      ]
     },
     "metadata": {},
     "output_type": "display_data"
    }
   ],
   "source": [
    "classifiers = ['Random Forest', 'Naive Bayes', 'Decision Tree', 'Support Vector Machine']\n",
    "accuracy_scores = [rfc_accuracy, nb_accuracy, dt_accuracy, svm_accuracy]\n",
    "precision_scores = [rfc_precision, nb_precision, dt_precision, svm_precision]\n",
    "recall_scores = [rfc_recall, nb_recall, dt_recall, svm_recall]\n",
    "f1_scores = [rfc_f1, nb_f1, dt_f1, svm_f1]\n",
    "\n",
    "# Create a bar plot for each metric\n",
    "fig, ax = plt.subplots(2, 2, figsize=(10, 8))\n",
    "ax[0, 0].bar(classifiers, accuracy_scores)\n",
    "ax[0, 0].set_title('Accuracy')\n",
    "ax[0, 1].bar(classifiers, precision_scores)\n",
    "ax[0, 1].set_title('Precision')\n",
    "ax[1, 0].bar(classifiers, recall_scores)\n",
    "ax[1, 0].set_title('Recall')\n",
    "ax[1, 1].bar(classifiers, f1_scores)\n",
    "ax[1, 1].set_title('F1 score')\n",
    "\n",
    "plt.tight_layout()\n",
    "plt.xticks(rotation=45)\n",
    "plt.show()"
   ]
  },
  {
   "cell_type": "code",
   "execution_count": null,
   "metadata": {},
   "outputs": [],
   "source": []
  }
 ],
 "metadata": {
  "kernelspec": {
   "display_name": "Python 3",
   "language": "python",
   "name": "python3"
  },
  "language_info": {
   "codemirror_mode": {
    "name": "ipython",
    "version": 3
   },
   "file_extension": ".py",
   "mimetype": "text/x-python",
   "name": "python",
   "nbconvert_exporter": "python",
   "pygments_lexer": "ipython3",
   "version": "3.10.11"
  },
  "orig_nbformat": 4
 },
 "nbformat": 4,
 "nbformat_minor": 2
}
