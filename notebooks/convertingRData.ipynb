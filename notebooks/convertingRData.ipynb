{
 "cells": [
  {
   "cell_type": "code",
   "execution_count": null,
   "metadata": {},
   "outputs": [],
   "source": [
    "import rpy2.robjects as robjects\n",
    "import pandas as pd"
   ]
  },
  {
   "cell_type": "code",
   "execution_count": null,
   "metadata": {},
   "outputs": [],
   "source": [
    "gravier_list = ['alon.RData', 'borovecki.RData', 'burczynski.RData', 'chiaretti.RData', 'chin.RData', \n",
    "                'chowdary.RData', 'christensen.RData', 'golub.RData', 'gordon.RData', 'gravier.RData', \n",
    "                'khan.RData', 'nakayama.RData', 'pomeroy.RData', 'shipp.RData', 'singh.RData', \n",
    "                'sorlie.RData', 'su.RData', 'subramanian.RData', 'sun.RData', 'tian.RData', 'west.RData',\n",
    "                 'yeoh.RData']"
   ]
  },
  {
   "cell_type": "code",
   "execution_count": null,
   "metadata": {},
   "outputs": [],
   "source": [
    "def converting_rdata(lst) -> None:\n",
    "    for i in lst:\n",
    "        r = robjects.r\n",
    "        r.load(f\"gravier/{i}\")\n",
    "        r.library(\"utils\")\n",
    "        name = i\n",
    "        split_name = name.split('.')\n",
    "        r(f\"write.csv({split_name[0]}, file='{split_name[0]}.csv', row.names=FALSE)\")\n",
    "        df = pd.read_csv(f\"{split_name[0]}.csv\")\n",
    "\n",
    "converting_rdata(gravier_list)"
   ]
  }
 ],
 "metadata": {
  "kernelspec": {
   "display_name": "Python 3",
   "language": "python",
   "name": "python3"
  },
  "language_info": {
   "name": "python",
   "version": "3.10.6"
  },
  "orig_nbformat": 4,
  "vscode": {
   "interpreter": {
    "hash": "7e1998ff7f8aa20ada591c520b972326324e5ea05489af9e422744c7c09f6dad"
   }
  }
 },
 "nbformat": 4,
 "nbformat_minor": 2
}
